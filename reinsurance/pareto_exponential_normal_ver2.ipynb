{
 "cells": [
  {
   "cell_type": "markdown",
   "metadata": {},
   "source": [
    "# Comparing the Pareto, the Exponencial and the Normal ver 2.0"
   ]
  },
  {
   "cell_type": "markdown",
   "metadata": {},
   "source": [
    "Three groups of IT solution development with identical sales volumes, have very different approaches to risk. The $\\textbf{A}$ group has quality control implemented through an Enterprise Risk Management approach and uses a state-of-the-art error detection and correction framework. The $\\textbf{B}$ group, in order to reduce costs and time-to-market, accepts a higher risk margin, reducing quality control. The $\\textbf{C}$ group, on the other hand, has no concern with quality control, with a business model that allows it to reach the market before competitors, accepting the costs inherent in all the errors it has to correct. A risk analyst made an analysis of the costs that each group incurs in the correction of errors each year and concluded that the costs (in thousands of euros) for the group $A$, $B$ and $C$ are $C_A\\sim N(10^4, 10^8)$, $C_B \\sim E(10^4)$ and $C_C \\sim P((2-\\sqrt{2})10^4, 1+\\sqrt{2})$, respectively.\n",
    "\\end{assi}\n",
    "\\textcolor{blue}{Using R or Python, please, solve the following questions.}\n",
    "\n",
    "\n",
    "\\begin{enumerate}\n",
    "\n",
    "\\item Choosing a suitable interval, plot a graphic that allows for the comparison of the \\textit{pdf} and \\textit{cdf} of the distributions of costs.\n",
    "\n",
    "\\item Check that all groups have the same expected value and variance for the costs.\n",
    "\n",
    "\\textbf{For each of the groups, determine}:\n",
    "\\item the probability that costs will exceed twice the expected value.\n",
    "\n",
    "\\item probability that in years when costs are higher than expected, they will more than double the expected value.\n",
    "\n",
    "\\item the likelihood that in very bad years, that is, years when costs are more than double the expected, these will exceed the expected value by more than triple.\n",
    "\\end{enumerate}"
   ]
  },
  {
   "cell_type": "code",
   "execution_count": 1,
   "metadata": {},
   "outputs": [],
   "source": [
    "%reset -f\n",
    "from scipy.stats import norm\n",
    "from scipy.stats import expon\n",
    "from scipy.stats import pareto\n",
    "import numpy as np\n",
    "import matplotlib.pyplot as plt"
   ]
  },
  {
   "cell_type": "markdown",
   "metadata": {},
   "source": [
    "## The Normal Distribution Parameterization"
   ]
  },
  {
   "cell_type": "code",
   "execution_count": 2,
   "metadata": {},
   "outputs": [
    {
     "name": "stdout",
     "output_type": "stream",
     "text": [
      "(array(10000.), array(1.e+08), array(0.), array(0.))\n"
     ]
    }
   ],
   "source": [
    "mu = 10 ** 4\n",
    "sigma2 = 10 ** 8\n",
    "var_A = norm(mu, sigma2 ** .5)\n",
    "print(var_A.stats(moments='mvsk'))"
   ]
  },
  {
   "cell_type": "markdown",
   "metadata": {},
   "source": [
    "## The Exponential Distribution Parameterization"
   ]
  },
  {
   "cell_type": "code",
   "execution_count": 3,
   "metadata": {},
   "outputs": [
    {
     "name": "stdout",
     "output_type": "stream",
     "text": [
      "(array(10000.), array(1.e+08), array(2.), array(6.))\n"
     ]
    }
   ],
   "source": [
    "mu_exp = 0\n",
    "delta = 10 ** 4\n",
    "sigma2_exp = delta ** 2\n",
    "var_B = expon(mu_exp, delta)\n",
    "print(var_B.stats(moments='mvsk'))"
   ]
  },
  {
   "cell_type": "markdown",
   "metadata": {},
   "source": [
    "## The Pareto Distribution Parameterization"
   ]
  },
  {
   "cell_type": "code",
   "execution_count": 4,
   "metadata": {},
   "outputs": [
    {
     "name": "stdout",
     "output_type": "stream",
     "text": [
      "(array(10000.), array(1.e+08), array(nan), array(nan))\n",
      "min value is: 5857.864376269049\n"
     ]
    }
   ],
   "source": [
    "scl = (2 - 2 ** .5) * 10 ** 4 #the minimum value in the support\n",
    "loc = 1 + 2 ** .5\n",
    "var_C = pareto(b=loc, scale=scl)\n",
    "print(var_C.stats(moments='mvsk'))\n",
    "\n",
    "print('min value is:', var_C.ppf(0))"
   ]
  },
  {
   "cell_type": "markdown",
   "metadata": {},
   "source": [
    "## Density plots"
   ]
  },
  {
   "cell_type": "markdown",
   "metadata": {},
   "source": [
    "Select the lower and upper probabilities to draw graphics and conclusions, either 1: usual stuff, 2: getting crazy with the tails, 3: out of our mind with the tails"
   ]
  },
  {
   "cell_type": "code",
   "execution_count": 26,
   "metadata": {},
   "outputs": [],
   "source": [
    "def select_probabilities(set_probs=1):\n",
    "    probs={1:[.5, .95], 2:[.95, .99], 3: [.99, .999]}\n",
    "    return probs.get(set_probs, 'invalid index')\n",
    "    \n",
    "lower_probability, upper_probability = select_probabilities(2)"
   ]
  },
  {
   "cell_type": "code",
   "execution_count": 27,
   "metadata": {},
   "outputs": [
    {
     "name": "stdout",
     "output_type": "stream",
     "text": [
      "Normal quantiles interval: [26448.536269514723, 33263.478740408405]\n",
      "Exponential quantiles interval: [29957.3227355399, 46051.70185988091]\n",
      "Pareto quantiles interval: [20260.1931674351, 39460.85012484192]\n"
     ]
    },
    {
     "data": {
      "text/plain": [
       "Text(0, 0.5, 'f(x)')"
      ]
     },
     "execution_count": 27,
     "metadata": {},
     "output_type": "execute_result"
    },
    {
     "data": {
      "image/png": "[encoded data removed]",
      "text/plain": [
       "<Figure size 432x288 with 1 Axes>"
      ]
     },
     "metadata": {
      "needs_background": "light"
     },
     "output_type": "display_data"
    }
   ],
   "source": [
    "lq_A = var_A.ppf(lower_probability)\n",
    "uq_A = var_A.ppf(upper_probability)\n",
    "print(f'Normal quantiles interval: [{lq_A}, {uq_A}]')\n",
    "lq_B = var_B.ppf(lower_probability)\n",
    "uq_B = var_B.ppf(upper_probability)\n",
    "print(f'Exponential quantiles interval: [{lq_B}, {uq_B}]')\n",
    "lq_C = var_C.ppf(lower_probability)\n",
    "uq_C = var_C.ppf(upper_probability)\n",
    "print(f'Pareto quantiles interval: [{lq_C}, {uq_C}]')\n",
    "\n",
    "x = np.linspace(min(lq_A, lq_B, lq_C), max(uq_A, uq_B, uq_C), 5000)\n",
    "prob_A = var_A.pdf(x)\n",
    "prob_B = var_B.pdf(x)\n",
    "prob_C = var_C.pdf(x)\n",
    "\n",
    "fig, ax = plt.subplots()\n",
    "label_A = 'N(' + str(mu) + ', ' + str(sigma2) + ')'\n",
    "plt.plot(x, prob_A, label=label_A, color='k')\n",
    "\n",
    "label_B = 'E(0,' + str(delta) + ')'\n",
    "plt.plot(x, prob_B, label=label_B)\n",
    "\n",
    "label_C = 'P(' + str(round(scl,5)) + ', ' + str(round(loc,5)) + ')'\n",
    "plt.plot(x, prob_C, label=label_C)\n",
    "\n",
    "v_lines = (mu, 2 * mu, 3 * mu)\n",
    "plt.grid(visible=True, which='both', axis='both', color='grey', linestyle='-', linewidth=.1)\n",
    "plt.legend()\n",
    "for l in v_lines:\n",
    "    plt.axvline(x=l, color='b', linestyle='--')\n",
    "    ax.text(x=l, y=0, s=str(l), color='r')\n",
    "\n",
    "plt.title('Probability Density Function')\n",
    "plt.xlabel('x')\n",
    "plt.ylabel('f(x)')"
   ]
  },
  {
   "cell_type": "markdown",
   "metadata": {},
   "source": [
    "## Distribution plots"
   ]
  },
  {
   "cell_type": "markdown",
   "metadata": {},
   "source": [
    "## Compute the probabilities"
   ]
  },
  {
   "cell_type": "code",
   "execution_count": 28,
   "metadata": {},
   "outputs": [
    {
     "name": "stdout",
     "output_type": "stream",
     "text": [
      "Probability that A exceedes 20000.0: 0.15865525393145707\n",
      "Probability that B exceedes 20000.0: 0.1353352832366127\n",
      "Probability that C exceedes 20000.0: 0.05158487707905197\n"
     ]
    }
   ],
   "source": [
    "print(f\"Probability that A exceedes {2*var_A.stats(moments='m')}: {var_A.sf(2*var_A.stats(moments='m'))}\")\n",
    "print(f\"Probability that B exceedes {2*var_B.stats(moments='m')}: {var_B.sf(2*var_B.stats(moments='m'))}\")\n",
    "print(f\"Probability that C exceedes {2*var_C.stats(moments='m')}: {var_C.sf(2*var_C.stats(moments='m'))}\")"
   ]
  },
  {
   "cell_type": "code",
   "execution_count": 29,
   "metadata": {},
   "outputs": [
    {
     "name": "stdout",
     "output_type": "stream",
     "text": [
      "Probability that A exceedes 20000.0 when is in excess 10000.0: 0.31731050786291415\n",
      "Probability that B exceedes 20000.0 when is in excess 10000.0: 0.36787944117144233\n",
      "Probability that C exceedes 20000.0 when is in excess 10000.0: 0.1876071136232409\n"
     ]
    }
   ],
   "source": [
    "print(f\"Probability that A exceedes {2*var_A.stats(moments='m')} when is in excess {var_A.stats(moments='m')}: {var_A.sf(2*var_A.stats(moments='m'))/var_A.sf(var_A.stats(moments='m'))}\")\n",
    "print(f\"Probability that B exceedes {2*var_B.stats(moments='m')} when is in excess {var_B.stats(moments='m')}: {var_B.sf(2*var_B.stats(moments='m'))/var_B.sf(var_B.stats(moments='m'))}\")\n",
    "print(f\"Probability that C exceedes {2*var_C.stats(moments='m')} when is in excess {var_C.stats(moments='m')}: {var_C.sf(2*var_C.stats(moments='m'))/var_C.sf(var_C.stats(moments='m'))}\")\n"
   ]
  },
  {
   "cell_type": "code",
   "execution_count": 30,
   "metadata": {},
   "outputs": [
    {
     "name": "stdout",
     "output_type": "stream",
     "text": [
      "Probability that A exceedes 30000.0 when is in excess 20000.0: 0.14339349869880644\n",
      "Probability that B exceedes 30000.0 when is in excess 20000.0: 0.3678794411714423\n",
      "Probability that C exceedes 30000.0 when is in excess 20000.0: 0.3757319220823249\n"
     ]
    }
   ],
   "source": [
    "print(f\"Probability that A exceedes {3*var_A.stats(moments='m')} when is in excess {2*var_A.stats(moments='m')}: {var_A.sf(3*var_A.stats(moments='m'))/var_A.sf(2*var_A.stats(moments='m'))}\")\n",
    "print(f\"Probability that B exceedes {3*var_B.stats(moments='m')} when is in excess {2*var_B.stats(moments='m')}: {var_B.sf(3*var_B.stats(moments='m'))/var_B.sf(2*var_B.stats(moments='m'))}\")\n",
    "print(f\"Probability that C exceedes {3*var_C.stats(moments='m')} when is in excess {2*var_C.stats(moments='m')}: {var_C.sf(3*var_C.stats(moments='m'))/var_C.sf(2*var_C.stats(moments='m'))}\")"
   ]
  },
  {
   "cell_type": "markdown",
   "metadata": {},
   "source": [
    "## Conditional Expectations"
   ]
  },
  {
   "cell_type": "markdown",
   "metadata": {},
   "source": [
    "The conditional expectations, distribution specific, that is, $E(X|x_1<X<x_2)$, in this case $E(X|x_1<X<\\infty)=E(X|X>x_1)$"
   ]
  },
  {
   "cell_type": "markdown",
   "metadata": {},
   "source": [
    "For the exponential $E(l,b)$ we've $\\left(\\left(x_1+b\\right)\\mathrm{e}^{-\\frac{x_1-l}{b}}-(x_2+b)\\mathrm{e}^{-\\frac{x_2-l}{b}}\\right)/(F_X(x_2)-F_X(x_1))$\n",
    "\n",
    "%https://www.integral-calculator.com/#expr=x%2Fbe%5E%28-%28x-l%29%2Fb&lbound=x1&ubound=x2&simplify=1"
   ]
  },
  {
   "cell_type": "markdown",
   "metadata": {},
   "source": [
    "For the Pareto $P(l,a)$ we've $\\dfrac{al^a\\cdot\\left(x_1^{1-a}-x_2^{1-a}\\right)}{a-1}$\n",
    "\n",
    "%https://www.integral-calculator.com/#expr=x%2Aa%2Al%5Ea%2Ax%5E%28-%28a%2B1%29%29&lbound=x1&ubound=x2&simplify=1"
   ]
  },
  {
   "cell_type": "code",
   "execution_count": 31,
   "metadata": {
    "pycharm": {
     "name": "#%%\n"
    }
   },
   "outputs": [],
   "source": [
    "def condExpValueNormal(mu, sigma2, x1, x2):\n",
    "    return mu-sigma2*(var_A.pdf(x2)-var_A.pdf(x1))/(var_A.cdf(x2)-var_A.cdf(x1))\n",
    "\n",
    "def condExpValueExponential(mu_exp, delta, x1, x2):\n",
    "    if x2==np.inf:\n",
    "        return (x1+delta)*np.exp(-(x1-mu_exp)/delta)/(1-var_B.cdf(x1))\n",
    "    return ((x1+delta)*np.exp(-(x1-mu_exp)/delta)-(x2+delta)*np.exp(-(x2-mu_exp)/delta))/(var_B.cdf(x2)-var_B.cdf(x1))\n",
    "\n",
    "def condExpValuePareto(loc, shape, x1, x2):\n",
    "    if x2==np.inf:\n",
    "        return (shape/(shape-1)*loc**shape*x1**-(shape-1))/(1-var_C.cdf(x1))\n",
    "    return (shape/(shape-1)*loc**shape*x1**-(shape-1)-shape/(shape-1)*loc**shape*x2**-(shape-1))/(var_C.cdf(x2)-var_C.cdf(x1))\n",
    "\n"
   ]
  },
  {
   "cell_type": "code",
   "execution_count": 32,
   "metadata": {},
   "outputs": [
    {
     "data": {
      "text/plain": [
       "<matplotlib.legend.Legend at 0x7f90080a0d90>"
      ]
     },
     "execution_count": 32,
     "metadata": {},
     "output_type": "execute_result"
    },
    {
     "data": {
      "image/png": "[encoded data removed]",
      "text/plain": [
       "<Figure size 432x288 with 1 Axes>"
      ]
     },
     "metadata": {
      "needs_background": "light"
     },
     "output_type": "display_data"
    }
   ],
   "source": [
    "fig, ax = plt.subplots()\n",
    "label_A = 'N(' + str(mu) + ', ' + str(sigma2) + ')'\n",
    "condExpValue_A=[condExpValueNormal(mu, sigma2, x1, np.inf) for x1 in x]\n",
    "condExpValue_B=[condExpValueExponential(mu_exp, delta, x1, np.inf) for x1 in x]\n",
    "condExpValue_C=[condExpValuePareto(scl, loc, x1, np.inf) for x1 in x]\n",
    "\n",
    "plt.plot(x, condExpValue_A, label=label_A, color='k')\n",
    "plt.plot(x, condExpValue_B, label=label_B)\n",
    "plt.plot(x, condExpValue_C, label=label_C)\n",
    "plt.plot(x, x, label='declive 1', linestyle='--')\n",
    "\n",
    "plt.grid(visible=True, which='both', axis='both', color='grey', linestyle='-', linewidth=.1)\n",
    "plt.legend()"
   ]
  },
  {
   "cell_type": "code",
   "execution_count": null,
   "metadata": {},
   "outputs": [],
   "source": []
  }
 ],
 "metadata": {
  "kernelspec": {
   "display_name": "Python 3 (ipykernel)",
   "language": "python",
   "name": "python3"
  },
  "language_info": {
   "codemirror_mode": {
    "name": "ipython",
    "version": 3
   },
   "file_extension": ".py",
   "mimetype": "text/x-python",
   "name": "python",
   "nbconvert_exporter": "python",
   "pygments_lexer": "ipython3",
   "version": "3.9.7"
  }
 },
 "nbformat": 4,
 "nbformat_minor": 4
}
